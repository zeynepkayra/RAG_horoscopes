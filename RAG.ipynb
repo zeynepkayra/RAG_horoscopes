{
  "nbformat": 4,
  "nbformat_minor": 0,
  "metadata": {
    "colab": {
      "provenance": [],
      "machine_shape": "hm",
      "gpuType": "T4"
    },
    "kernelspec": {
      "name": "python3",
      "display_name": "Python 3"
    },
    "language_info": {
      "name": "python"
    },
    "accelerator": "GPU"
  },
  "cells": [
    {
      "cell_type": "code",
      "execution_count": 131,
      "metadata": {
        "colab": {
          "base_uri": "https://localhost:8080/"
        },
        "id": "9BMEGxvmgt3O",
        "outputId": "e9e34964-456e-495b-97d2-8f7dab8c409a"
      },
      "outputs": [
        {
          "output_type": "stream",
          "name": "stdout",
          "text": [
            "  % Total    % Received % Xferd  Average Speed   Time    Time     Time  Current\n",
            "                                 Dload  Upload   Total   Spent    Left  Speed\n",
            "  0     0    0     0    0     0      0      0 --:--:-- --:--:-- --:--:--     0>>> Downloading ollama...\n",
            "100 10941    0 10941    0     0  34158      0 --:--:-- --:--:-- --:--:-- 34190\n",
            "############################################################################################# 100.0%\n",
            ">>> Installing ollama to /usr/local/bin...\n",
            ">>> Adding ollama user to video group...\n",
            ">>> Adding current user to ollama group...\n",
            ">>> Creating ollama systemd service...\n",
            "WARNING: Unable to detect NVIDIA/AMD GPU. Install lspci or lshw to automatically detect and install GPU dependencies.\n",
            ">>> The Ollama API is now available at 127.0.0.1:11434.\n",
            ">>> Install complete. Run \"ollama\" from the command line.\n"
          ]
        }
      ],
      "source": [
        "# Installing the latest version Ollama\n",
        "!curl https://ollama.ai/install.sh | sed 's#https://ollama.ai/download#https://github.com/jmorganca/ollama/releases/download/v0.1.30#' | sh"
      ]
    },
    {
      "cell_type": "code",
      "source": [
        "# Setting up the model, Mistral is the LLM used.\n",
        "OLLAMA_MODEL='mistral:latest'\n",
        "\n",
        "# Adding the model to the environment of the operating system\n",
        "import os\n",
        "os.environ['OLLAMA_MODEL'] = OLLAMA_MODEL\n",
        "!echo $OLLAMA_MODEL\n",
        "\n",
        "import subprocess\n",
        "import time\n",
        "\n",
        "# Starting ollama on the server\n",
        "command = \"nohup ollama serve&\"\n",
        "\n",
        "process = subprocess.Popen(command,\n",
        "                            shell=True,\n",
        "                            stdout=subprocess.PIPE,\n",
        "                            stderr=subprocess.PIPE)\n",
        "\n",
        "print(\"Process ID:\", process.pid)\n",
        "time.sleep(5)\n",
        "\n",
        "!ollama -v"
      ],
      "metadata": {
        "colab": {
          "base_uri": "https://localhost:8080/"
        },
        "id": "63m9Tah6hU0a",
        "outputId": "57bcf087-2ddb-4063-e335-96f670c641a4"
      },
      "execution_count": 132,
      "outputs": [
        {
          "output_type": "stream",
          "name": "stdout",
          "text": [
            "mistral:latest\n",
            "Process ID: 27029\n",
            "ollama version is 0.1.41\n"
          ]
        }
      ]
    },
    {
      "cell_type": "code",
      "source": [
        "!pip install llama-index-embeddings-huggingface --quiet\n",
        "!pip install llama-index-llms-ollama --quiet\n",
        "!pip install llama-index-vector-stores-chroma --quiet\n",
        "!pip install llama-index llama-index-experimental --quiet\n",
        "!pip install llama-index ipywidgets --quiet\n",
        "!pip install llama-index-llms-huggingface --quiet\n",
        "!pip install chromadb --quiet\n",
        "\n",
        "# Importing necessary modules from the llama_index library and Chroma_db\n",
        "from llama_index.core import VectorStoreIndex, SimpleDirectoryReader\n",
        "from llama_index.embeddings.huggingface import HuggingFaceEmbedding\n",
        "from llama_index.core import Settings\n",
        "from llama_index.llms.ollama import Ollama\n",
        "from llama_index.core import StorageContext\n",
        "from llama_index.vector_stores.chroma import ChromaVectorStore\n",
        "import chromadb\n",
        "from llama_index.llms.ollama import Ollama\n",
        "from llama_index.core.llms import ChatMessage, MessageRole\n",
        "from llama_index.core.retrievers import BaseRetriever, VectorIndexRetriever\n",
        "from llama_index.core import get_response_synthesizer, PromptTemplate, ChatPromptTemplate\n",
        "from llama_index.core.response_synthesizers import BaseSynthesizer\n",
        "from llama_index.core.query_engine import CustomQueryEngine\n",
        "from llama_index.core.memory import ChatMemoryBuffer\n",
        "from llama_index.core.postprocessor import SimilarityPostprocessor\n",
        "from llama_index.core.schema import Node, NodeWithScore"
      ],
      "metadata": {
        "id": "WozyJJg9jwZs"
      },
      "execution_count": 133,
      "outputs": []
    },
    {
      "cell_type": "code",
      "source": [
        "# Querying the model via the command line. First time running it will \"pull\" (import) the model\n",
        "!ollama run $OLLAMA_MODEL \"Give me short summary of Warwick Business School.\""
      ],
      "metadata": {
        "colab": {
          "base_uri": "https://localhost:8080/"
        },
        "id": "Iid6MPw5HKMs",
        "outputId": "e57bcf31-2b7a-4dc1-db24-ba3888ed4bfb"
      },
      "execution_count": 134,
      "outputs": [
        {
          "output_type": "stream",
          "name": "stdout",
          "text": [
            "\u001b[?25l⠙ \u001b[?25h\u001b[?25l\u001b[2K\u001b[1G⠹ \u001b[?25h\u001b[?25l\u001b[2K\u001b[1G⠸ \u001b[?25h\u001b[?25l\u001b[2K\u001b[1G⠼ \u001b[?25h\u001b[?25l\u001b[2K\u001b[1G⠴ \u001b[?25h\u001b[?25l\u001b[2K\u001b[1G⠦ \u001b[?25h\u001b[?25l\u001b[2K\u001b[1G⠧ \u001b[?25h\u001b[?25l\u001b[2K\u001b[1G⠇ \u001b[?25h\u001b[?25l\u001b[2K\u001b[1G⠏ \u001b[?25h\u001b[?25l\u001b[2K\u001b[1G⠋ \u001b[?25h\u001b[?25l\u001b[2K\u001b[1G⠙ \u001b[?25h\u001b[?25l\u001b[2K\u001b[1G⠹ \u001b[?25h\u001b[?25l\u001b[2K\u001b[1G⠸ \u001b[?25h\u001b[?25l\u001b[2K\u001b[1G⠼ \u001b[?25h\u001b[?25l\u001b[2K\u001b[1G⠴ \u001b[?25h\u001b[?25l\u001b[2K\u001b[1G⠦ \u001b[?25h\u001b[?25l\u001b[2K\u001b[1G⠧ \u001b[?25h\u001b[?25l\u001b[2K\u001b[1G⠇ \u001b[?25h\u001b[?25l\u001b[2K\u001b[1G⠏ \u001b[?25h\u001b[?25l\u001b[2K\u001b[1G⠋ \u001b[?25h\u001b[?25l\u001b[2K\u001b[1G⠙ \u001b[?25h\u001b[?25l\u001b[2K\u001b[1G⠹ \u001b[?25h\u001b[?25l\u001b[2K\u001b[1G⠸ \u001b[?25h\u001b[?25l\u001b[2K\u001b[1G⠼ \u001b[?25h\u001b[?25l\u001b[2K\u001b[1G⠴ \u001b[?25h\u001b[?25l\u001b[2K\u001b[1G⠦ \u001b[?25h\u001b[?25l\u001b[2K\u001b[1G⠧ \u001b[?25h\u001b[?25l\u001b[2K\u001b[1G⠇ \u001b[?25h\u001b[?25l\u001b[2K\u001b[1G⠏ \u001b[?25h\u001b[?25l\u001b[2K\u001b[1G⠋ \u001b[?25h\u001b[?25l\u001b[2K\u001b[1G⠙ \u001b[?25h\u001b[?25l\u001b[?25l\u001b[2K\u001b[1G\u001b[?25h\u001b[2K\u001b[1G\u001b[?25h War\u001b[?25l\u001b[?25hwick\u001b[?25l\u001b[?25h Business\u001b[?25l\u001b[?25h School\u001b[?25l\u001b[?25h (\u001b[?25l\u001b[?25hW\u001b[?25l\u001b[?25hBS\u001b[?25l\u001b[?25h)\u001b[?25l\u001b[?25h is\u001b[?25l\u001b[?25h a\u001b[?25l\u001b[?25h prominent\u001b[?25l\u001b[?25h business\u001b[?25l\u001b[?25h school\u001b[?25l\u001b[?25h located\u001b[?25l\u001b[?25h at\u001b[?25l\u001b[?25h the\u001b[?25l\u001b[?25h University\u001b[?25l\u001b[?25h of\u001b[?25l\u001b[?25h War\u001b[?25l\u001b[?25hwick\u001b[?25l\u001b[?25h in\u001b[?25l\u001b[?25h Cov\u001b[?25l\u001b[?25hentry\u001b[?25l\u001b[?25h,\u001b[?25l\u001b[?25h UK\u001b[?25l\u001b[?25h.\u001b[?25l\u001b[?25h It\u001b[?25l\u001b[?25h was\u001b[?25l\u001b[?25h established\u001b[?25l\u001b[?25h in\u001b[?25l\u001b[?25h \u001b[?25l\u001b[?25h1\u001b[?25l\u001b[?25h9\u001b[?25l\u001b[?25h6\u001b[?25l\u001b[?25h7\u001b[?25l\u001b[?25h and\u001b[?25l\u001b[?25h is\u001b[?25l\u001b[?25h one\u001b[?25l\u001b[?25h of\u001b[?25l\u001b[?25h the\u001b[?25l\u001b[?25h first\u001b[?25l\u001b[?25h business\u001b[?25l\u001b[?25h schools\u001b[?25l\u001b[?25h to\u001b[?25l\u001b[?25h be\u001b[?25l\u001b[?25h established\u001b[?25l\u001b[?25h in\u001b[?25l\u001b[?25h Britain\u001b[?25l\u001b[?25h.\u001b[?25l\u001b[?25h The\u001b[?25l\u001b[?25h school\u001b[?25l\u001b[?25h offers\u001b[?25l\u001b[?25h under\u001b[?25l\u001b[?25hgraduate\u001b[?25l\u001b[?25h,\u001b[?25l\u001b[?25h post\u001b[?25l\u001b[?25hgraduate\u001b[?25l\u001b[?25h,\u001b[?25l\u001b[?25h executive\u001b[?25l\u001b[?25h education\u001b[?25l\u001b[?25h,\u001b[?25l\u001b[?25h and\u001b[?25l\u001b[?25h doctor\u001b[?25l\u001b[?25hal\u001b[?25l\u001b[?25h programs\u001b[?25l\u001b[?25h across\u001b[?25l\u001b[?25h various\u001b[?25l\u001b[?25h discipl\u001b[?25l\u001b[?25hines\u001b[?25l\u001b[?25h such\u001b[?25l\u001b[?25h as\u001b[?25l\u001b[?25h finance\u001b[?25l\u001b[?25h,\u001b[?25l\u001b[?25h management\u001b[?25l\u001b[?25h,\u001b[?25l\u001b[?25h marketing\u001b[?25l\u001b[?25h,\u001b[?25l\u001b[?25h economics\u001b[?25l\u001b[?25h,\u001b[?25l\u001b[?25h entrepreneur\u001b[?25l\u001b[?25hship\u001b[?25l\u001b[?25h,\u001b[?25l\u001b[?25h and\u001b[?25l\u001b[?25h more\u001b[?25l\u001b[?25h.\u001b[?25l\u001b[?25h\n",
            "\u001b[?25l\u001b[?25h\n",
            "\u001b[?25l\u001b[?25hW\u001b[?25l\u001b[?25hBS\u001b[?25l\u001b[?25h is\u001b[?25l\u001b[?25h known\u001b[?25l\u001b[?25h for\u001b[?25l\u001b[?25h its\u001b[?25l\u001b[?25h research\u001b[?25l\u001b[?25h excell\u001b[?25l\u001b[?25hence\u001b[?25l\u001b[?25h,\u001b[?25l\u001b[?25h with\u001b[?25l\u001b[?25h a\u001b[?25l\u001b[?25h strong\u001b[?25l\u001b[?25h focus\u001b[?25l\u001b[?25h on\u001b[?25l\u001b[?25h understanding\u001b[?25l\u001b[?25h how\u001b[?25l\u001b[?25h organizations\u001b[?25l\u001b[?25h work\u001b[?25l\u001b[?25h,\u001b[?25l\u001b[?25h and\u001b[?25l\u001b[?25h how\u001b[?25l\u001b[?25h management\u001b[?25l\u001b[?25h ideas\u001b[?25l\u001b[?25h can\u001b[?25l\u001b[?25h be\u001b[?25l\u001b[?25h developed\u001b[?25l\u001b[?25h to\u001b[?25l\u001b[?25h improve\u001b[?25l\u001b[?25h organiz\u001b[?25l\u001b[?25hational\u001b[?25l\u001b[?25h effectiveness\u001b[?25l\u001b[?25h.\u001b[?25l\u001b[?25h It\u001b[?25l\u001b[?25h has\u001b[?25l\u001b[?25h consistently\u001b[?25l\u001b[?25h ranked\u001b[?25l\u001b[?25h among\u001b[?25l\u001b[?25h the\u001b[?25l\u001b[?25h top\u001b[?25l\u001b[?25h business\u001b[?25l\u001b[?25h schools\u001b[?25l\u001b[?25h glob\u001b[?25l\u001b[?25hally\u001b[?25l\u001b[?25h by\u001b[?25l\u001b[?25h publications\u001b[?25l\u001b[?25h like\u001b[?25l\u001b[?25h the\u001b[?25l\u001b[?25h Financial\u001b[?25l\u001b[?25h Times\u001b[?25l\u001b[?25h and\u001b[?25l\u001b[?25h The\u001b[?25l\u001b[?25h Econom\u001b[?25l\u001b[?25hist\u001b[?25l\u001b[?25h.\u001b[?25l\u001b[?25h The\u001b[?25l\u001b[?25h school\u001b[?25l\u001b[?25h also\u001b[?25l\u001b[?25h places\u001b[?25l\u001b[?25h great\u001b[?25l\u001b[?25h emphasis\u001b[?25l\u001b[?25h on\u001b[?25l\u001b[?25h corporate\u001b[?25l\u001b[?25h connections\u001b[?25l\u001b[?25h,\u001b[?25l\u001b[?25h offering\u001b[?25l\u001b[?25h numerous\u001b[?25l\u001b[?25h opportunities\u001b[?25l\u001b[?25h for\u001b[?25l\u001b[?25h students\u001b[?25l\u001b[?25h to\u001b[?25l\u001b[?25h network\u001b[?25l\u001b[?25h with\u001b[?25l\u001b[?25h industry\u001b[?25l\u001b[?25h professionals\u001b[?25l\u001b[?25h and\u001b[?25l\u001b[?25h gain\u001b[?25l\u001b[?25h practical\u001b[?25l\u001b[?25h experience\u001b[?25l\u001b[?25h.\u001b[?25l\u001b[?25h\n",
            "\n",
            "\u001b[?25l\u001b[?25h"
          ]
        }
      ]
    },
    {
      "cell_type": "code",
      "source": [
        "llm = Ollama(model=OLLAMA_MODEL, request_timeout=240.0)\n",
        "\n",
        "# Launching a HuggingFace Embedding model\n",
        "embed_model = HuggingFaceEmbedding(model_name=\"BAAI/bge-small-en-v1.5\")\n",
        "\n",
        "# Specifying the LLM and embedding model into LlamaIndex's settings\n",
        "Settings.llm = llm\n",
        "Settings.embed_model = embed_model"
      ],
      "metadata": {
        "colab": {
          "base_uri": "https://localhost:8080/"
        },
        "id": "zrvUwb8oj-9x",
        "outputId": "93a41436-9bc8-4b73-bf12-5c7ab1b8a694"
      },
      "execution_count": 135,
      "outputs": [
        {
          "output_type": "stream",
          "name": "stderr",
          "text": [
            "/usr/local/lib/python3.10/dist-packages/huggingface_hub/file_download.py:1132: FutureWarning: `resume_download` is deprecated and will be removed in version 1.0.0. Downloads always resume when possible. If you want to force a new download, use `force_download=True`.\n",
            "  warnings.warn(\n"
          ]
        }
      ]
    },
    {
      "cell_type": "code",
      "source": [
        "# Pre-processing of the data to make LLM understand better. Write each row to a txt file and add info about each row.\n",
        "def text_create(row):\n",
        "  import datetime\n",
        "\n",
        "  dtobj = datetime.datetime.strptime(str(row[2])[4:6], \"%m\")\n",
        "  month = dtobj.strftime(\"%B\")\n",
        "\n",
        "  text = f'''Sign: {row[0]},\n",
        "             Day: {str(row[2])[6:8]},\n",
        "             Month: {month},\n",
        "             Horoscope:\n",
        "             {row[3]}'''\n",
        "\n",
        "  name = f\"{row[0]}_{month}_{str(row[2])[6:8]}\"\n",
        "\n",
        "  with open(f'/content/data/{name}.txt', 'w+') as textfile:\n",
        "      textfile.write(text)"
      ],
      "metadata": {
        "id": "0s1MeTuAUk9P"
      },
      "execution_count": 136,
      "outputs": []
    },
    {
      "cell_type": "code",
      "source": [
        "import pandas as pd\n",
        "\n",
        "dataset = pd.read_csv('horoscopes.csv')\n",
        "dataset = dataset[dataset[\"category\"] == \"general\"]\n",
        "\n",
        "!mkdir -p '/content/data/'\n",
        "\n",
        "\n",
        "for row in dataset.values:\n",
        "  text_create(row=row)\n",
        "\n",
        "\n",
        "# Loading document\n",
        "reader = SimpleDirectoryReader('/content/data/')\n",
        "docs = reader.load_data()"
      ],
      "metadata": {
        "id": "5lzDMD76djpL"
      },
      "execution_count": 137,
      "outputs": []
    },
    {
      "cell_type": "code",
      "source": [
        "# Creating client 'db' and a database 'chroma_db'\n",
        "db = chromadb.PersistentClient(path=\"./chroma_db\")\n",
        "\n",
        "# Creating a collection named RAG in the db\n",
        "chroma_collection = db.get_or_create_collection(\"RAG\")\n",
        "\n",
        "# Setting up ChromaVectorStore and load in data\n",
        "vector_store = ChromaVectorStore(chroma_collection=chroma_collection)\n",
        "storage_context = StorageContext.from_defaults(vector_store=vector_store)\n",
        "\n",
        "# Creating the index\n",
        "index = VectorStoreIndex.from_documents(\n",
        "    docs,\n",
        "    storage_context = storage_context,\n",
        "    embed_model = embed_model\n",
        ")\n",
        "\n",
        "print(chroma_collection)\n",
        "print(f'Collection name is: {chroma_collection.name}')"
      ],
      "metadata": {
        "id": "gG88NBfHkQ1P",
        "colab": {
          "base_uri": "https://localhost:8080/"
        },
        "outputId": "4b4cc579-e952-44ce-ef10-37a47ad1ec72"
      },
      "execution_count": 138,
      "outputs": [
        {
          "output_type": "stream",
          "name": "stdout",
          "text": [
            "name='RAG' id=UUID('2c5c6b42-ddcf-4568-97de-61698ba7c9a9') metadata=None tenant='default_tenant' database='default_database'\n",
            "Collection name is: RAG\n"
          ]
        }
      ]
    },
    {
      "cell_type": "code",
      "source": [
        "# Generating a customized query engine including Chat memory, retriever, post-processor, response synthesizer and prompt template,\n",
        "\n",
        "# Chat Memory\n",
        "pipeline_memory = ChatMemoryBuffer.from_defaults(token_limit=8000)\n",
        "\n",
        "# Retriever\n",
        "retriever = VectorIndexRetriever(\n",
        "    index=index,\n",
        "    streaming=True,\n",
        "    similarity_top_k=12,\n",
        ")\n",
        "\n",
        "# Post-Processor\n",
        "postprocessor = SimilarityPostprocessor(similarity_cutoff=0.6)\n",
        "\n",
        "EmptyNode = [NodeWithScore(node=Node(text=\"\"), score=0.0)]\n",
        "\n",
        "# Response Synthesizer\n",
        "synthesizer = get_response_synthesizer(\n",
        "      streaming=True, response_mode=\"compact\",\n",
        ")\n",
        "\n",
        "# Prompt Template\n",
        "qa_prompt_str = (\n",
        "    \"You are able to have normal interactions, as well as talk\"\n",
        "    \"about the horoscope forecasts.\\n\"\n",
        "    \"---------------------\\n\"\n",
        "    \"Chat history is provided below:\\n\"\n",
        "    \"{chat_history}\\n\"\n",
        "    \"---------------------\\n\"\n",
        "    \"Forecasts about relevant horoscopes are given in the context below:\\n\"\n",
        "    \"{context_str}\\n\"\n",
        "    \"---------------------\\n\"\n",
        "    \"Given the Horoscope information from the context with chat history and not prior knowledge, \"\n",
        "    \"answer the question: {query_str}\\n\"\n",
        ")\n",
        "\n",
        "\n",
        "chat_text_qa_msgs = [\n",
        "    ChatMessage(\n",
        "        role=MessageRole.SYSTEM,\n",
        "        content=(\n",
        "            \"If no context is provided, answer from chat history. Even if chat history does not provide any relevant information, still answer the question.\"\n",
        "        ),\n",
        "    ),\n",
        "    ChatMessage(role=MessageRole.USER, content=qa_prompt_str),\n",
        "]\n",
        "\n",
        "qa_prompt = ChatPromptTemplate(chat_text_qa_msgs)\n",
        "\n",
        "# Customized Query Engine and assembly of all components in the engine\n",
        "\n",
        "class RAGStringQueryEngine(CustomQueryEngine):\n",
        "\n",
        "    retriever: BaseRetriever\n",
        "    response_synthesizer: BaseSynthesizer\n",
        "    llm: llm\n",
        "    qa_prompt: ChatPromptTemplate\n",
        "    pipeline_memory: ChatMemoryBuffer\n",
        "    postprocessor: SimilarityPostprocessor\n",
        "\n",
        "    def custom_query(self, query_str: str):\n",
        "\n",
        "        chat_history_obj = pipeline_memory.get()\n",
        "        chat_history = \"\\n\".join([str(x) for x in chat_history_obj])\n",
        "\n",
        "        user_msg = ChatMessage(role=\"user\", content=query_str)\n",
        "        pipeline_memory.put(user_msg)\n",
        "\n",
        "        nodes = self.retriever.retrieve(query_str)\n",
        "        nodes_p = postprocessor.postprocess_nodes(nodes)\n",
        "        context_str = \"\\n\\n\".join([n.node.get_content() for n in nodes_p])\n",
        "\n",
        "        if context_str == \"\":\n",
        "          nodes_p = EmptyNode\n",
        "\n",
        "        question_with_context = qa_prompt.format(chat_history=chat_history, context_str=context_str, query_str=query_str)\n",
        "        response_obj = self.response_synthesizer.synthesize(question_with_context, nodes_p)\n",
        "\n",
        "        llm_msg = ChatMessage(role=\"assistant\", content=str(response_obj))\n",
        "        pipeline_memory.put(llm_msg)\n",
        "\n",
        "        return response_obj"
      ],
      "metadata": {
        "id": "IY5OxzCfrt-x"
      },
      "execution_count": 139,
      "outputs": []
    },
    {
      "cell_type": "code",
      "source": [
        "# Function to deal with Multi-Hop Reasoning and make the chat memory save all the subsequentially dependent responses\n",
        "\n",
        "def multi_hop(msgs, metadata=False):\n",
        "\n",
        "  # Initializing memory\n",
        "  pipeline_memory = ChatMemoryBuffer.from_defaults(token_limit=8000)\n",
        "\n",
        "  # Calling the customized query engine\n",
        "  query_engine = RAGStringQueryEngine(\n",
        "    retriever=retriever,\n",
        "    response_synthesizer=synthesizer,\n",
        "    llm=llm,\n",
        "    qa_prompt=qa_prompt,\n",
        "    pipeline_memory=pipeline_memory,\n",
        "    postprocessor=postprocessor\n",
        "  )\n",
        "\n",
        "  # Displaying the responses\n",
        "  for msg in msgs:\n",
        "\n",
        "    print(\"-\"*30+\"\\n\")\n",
        "    print(f\"User:\\n {msg}\\n\")\n",
        "    print(\"Assistant:\\n\")\n",
        "\n",
        "    res = query_engine.query(msg)\n",
        "    res.print_response_stream()\n",
        "    print(\"\\n\")\n",
        "    print(\"-\"*30)\n",
        "\n",
        "    if metadata == True:\n",
        "      print(\"Metadata:\")\n",
        "      print(res.metadata)"
      ],
      "metadata": {
        "id": "YpVk4ZekExN4"
      },
      "execution_count": 140,
      "outputs": []
    },
    {
      "cell_type": "code",
      "source": [
        "# Custom Query Engine\n",
        "query_engine = RAGStringQueryEngine(\n",
        "    retriever=retriever,\n",
        "    response_synthesizer=synthesizer,\n",
        "    llm=llm,\n",
        "    qa_prompt=qa_prompt,\n",
        "    pipeline_memory=pipeline_memory,\n",
        "    postprocessor=postprocessor\n",
        "  )\n"
      ],
      "metadata": {
        "id": "7Dv7f_0LfITk"
      },
      "execution_count": 141,
      "outputs": []
    },
    {
      "cell_type": "code",
      "source": [
        "# Initializing memory\n",
        "pipeline_memory = ChatMemoryBuffer.from_defaults(token_limit=8000)\n",
        "\n",
        "# Test question 1\n",
        "response1 = query_engine.query(\"My sign is Scorpio. What is the horoscope of 23 September?\")\n",
        "response1.print_response_stream()"
      ],
      "metadata": {
        "colab": {
          "base_uri": "https://localhost:8080/"
        },
        "id": "hnmemMCAaEl-",
        "outputId": "a28ab7e7-21b5-487f-e9db-d8e2acb92b7f"
      },
      "execution_count": 94,
      "outputs": [
        {
          "output_type": "stream",
          "name": "stdout",
          "text": [
            " A reassessment of your financial goals may be needed now, as some of your expectations may be unrealistic and you might need to look at them in a more practical light. This doesn't mean they won't happen, just that they're apt to take a little longer than you'd like. Think of it as an opportunity to develop patience. Rework your budget and hang in there!\n"
          ]
        }
      ]
    },
    {
      "cell_type": "code",
      "source": [
        "# Metadata of question 1\n",
        "response1.metadata"
      ],
      "metadata": {
        "colab": {
          "base_uri": "https://localhost:8080/"
        },
        "id": "FgHCwJiVai9g",
        "outputId": "285c7c31-fecf-4f27-de68-f7b9b967198c"
      },
      "execution_count": 95,
      "outputs": [
        {
          "output_type": "execute_result",
          "data": {
            "text/plain": [
              "{'021df406-3863-4322-84f4-fdd1187f2a17': {'file_path': '/content/data/scorpio_September_23.txt',\n",
              "  'file_name': 'scorpio_September_23.txt',\n",
              "  'file_type': 'text/plain',\n",
              "  'file_size': 468,\n",
              "  'creation_date': '2024-06-05',\n",
              "  'last_modified_date': '2024-06-05'},\n",
              " '77960a11-a882-4567-9585-a28bab29c33a': {'file_path': '/content/data/scorpio_August_23.txt',\n",
              "  'file_name': 'scorpio_August_23.txt',\n",
              "  'file_type': 'text/plain',\n",
              "  'file_size': 484,\n",
              "  'creation_date': '2024-06-05',\n",
              "  'last_modified_date': '2024-06-05'},\n",
              " '8fb4a306-202b-406b-acfe-17781e544819': {'file_path': '/content/data/virgo_September_23.txt',\n",
              "  'file_name': 'virgo_September_23.txt',\n",
              "  'file_type': 'text/plain',\n",
              "  'file_size': 486,\n",
              "  'creation_date': '2024-06-05',\n",
              "  'last_modified_date': '2024-06-05'},\n",
              " '6be191bb-4d9e-490c-ae47-143fd3c230fe': {'file_path': '/content/data/scorpio_December_23.txt',\n",
              "  'file_name': 'scorpio_December_23.txt',\n",
              "  'file_type': 'text/plain',\n",
              "  'file_size': 483,\n",
              "  'creation_date': '2024-06-05',\n",
              "  'last_modified_date': '2024-06-05'},\n",
              " '3a08d076-4508-489b-8bd5-85070954fc26': {'file_path': '/content/data/scorpio_September_25.txt',\n",
              "  'file_name': 'scorpio_September_25.txt',\n",
              "  'file_type': 'text/plain',\n",
              "  'file_size': 489,\n",
              "  'creation_date': '2024-06-05',\n",
              "  'last_modified_date': '2024-06-05'},\n",
              " '06d37037-a213-4848-a1f2-8771765f99ce': {'file_path': '/content/data/scorpio_June_23.txt',\n",
              "  'file_name': 'scorpio_June_23.txt',\n",
              "  'file_type': 'text/plain',\n",
              "  'file_size': 493,\n",
              "  'creation_date': '2024-06-05',\n",
              "  'last_modified_date': '2024-06-05'},\n",
              " 'd2abc048-294d-4a6c-8e12-1b833382ce6b': {'file_path': '/content/data/scorpio_November_23.txt',\n",
              "  'file_name': 'scorpio_November_23.txt',\n",
              "  'file_type': 'text/plain',\n",
              "  'file_size': 471,\n",
              "  'creation_date': '2024-06-05',\n",
              "  'last_modified_date': '2024-06-05'},\n",
              " 'a9289e62-9e16-404d-b50d-985279ebbb4e': {'file_path': '/content/data/scorpio_March_23.txt',\n",
              "  'file_name': 'scorpio_March_23.txt',\n",
              "  'file_type': 'text/plain',\n",
              "  'file_size': 467,\n",
              "  'creation_date': '2024-06-05',\n",
              "  'last_modified_date': '2024-06-05'},\n",
              " 'cf177f28-3a4d-46b1-94f9-3e03e1c58b4e': {'file_path': '/content/data/scorpio_October_23.txt',\n",
              "  'file_name': 'scorpio_October_23.txt',\n",
              "  'file_type': 'text/plain',\n",
              "  'file_size': 460,\n",
              "  'creation_date': '2024-06-05',\n",
              "  'last_modified_date': '2024-06-05'},\n",
              " 'd7874341-940c-4d43-a49e-638860a97ada': {'file_path': '/content/data/scorpio_July_23.txt',\n",
              "  'file_name': 'scorpio_July_23.txt',\n",
              "  'file_type': 'text/plain',\n",
              "  'file_size': 471,\n",
              "  'creation_date': '2024-06-05',\n",
              "  'last_modified_date': '2024-06-05'},\n",
              " '52b1f922-de68-4afe-b018-a4cdb310ed32': {'file_path': '/content/data/scorpio_September_22.txt',\n",
              "  'file_name': 'scorpio_September_22.txt',\n",
              "  'file_type': 'text/plain',\n",
              "  'file_size': 480,\n",
              "  'creation_date': '2024-06-05',\n",
              "  'last_modified_date': '2024-06-05'},\n",
              " '138a41ca-25ea-4322-b664-de97204a0b01': {'file_path': '/content/data/scorpio_September_26.txt',\n",
              "  'file_name': 'scorpio_September_26.txt',\n",
              "  'file_type': 'text/plain',\n",
              "  'file_size': 494,\n",
              "  'creation_date': '2024-06-05',\n",
              "  'last_modified_date': '2024-06-05'}}"
            ]
          },
          "metadata": {},
          "execution_count": 95
        }
      ]
    },
    {
      "cell_type": "code",
      "source": [
        "# Initializing memory\n",
        "pipeline_memory = ChatMemoryBuffer.from_defaults(token_limit=8000)\n",
        "\n",
        "# Test question 2\n",
        "response2 = query_engine.query(\"Write me the horoscope of the sign Pisces for May 18.\")\n",
        "response2.print_response_stream()"
      ],
      "metadata": {
        "colab": {
          "base_uri": "https://localhost:8080/"
        },
        "id": "CtuxHM4batWW",
        "outputId": "354ae31a-71c3-4da6-cc8e-bc69b2bee0e7"
      },
      "execution_count": 96,
      "outputs": [
        {
          "output_type": "stream",
          "name": "stdout",
          "text": [
            " The horoscope for the sign Pisces on May 18 suggests that some differences of opinion concerning your love life may come up today. You could find your beloved taking more liberties than you allow yourself. Instead of resenting it, follow your partner's lead. This could be a chance to realize that you need more novelty in the emotional realm. Be open to looking into the possibilities. The day ahead could bring you just what you seek.\n"
          ]
        }
      ]
    },
    {
      "cell_type": "code",
      "source": [
        "# Metadata of question 2\n",
        "response2.metadata"
      ],
      "metadata": {
        "colab": {
          "base_uri": "https://localhost:8080/"
        },
        "id": "m3og1_iSatY4",
        "outputId": "b0ad948c-d57a-4a6d-f8df-fe82b3c482ee"
      },
      "execution_count": 97,
      "outputs": [
        {
          "output_type": "execute_result",
          "data": {
            "text/plain": [
              "{'298ce16b-31db-482c-a0a2-0d9ddbbf0a6f': {'file_path': '/content/data/pisces_May_18.txt',\n",
              "  'file_name': 'pisces_May_18.txt',\n",
              "  'file_type': 'text/plain',\n",
              "  'file_size': 484,\n",
              "  'creation_date': '2024-06-05',\n",
              "  'last_modified_date': '2024-06-05'},\n",
              " 'bf1df7bf-dccc-42d4-bec0-217d86daf915': {'file_path': '/content/data/pisces_May_11.txt',\n",
              "  'file_name': 'pisces_May_11.txt',\n",
              "  'file_type': 'text/plain',\n",
              "  'file_size': 430,\n",
              "  'creation_date': '2024-06-05',\n",
              "  'last_modified_date': '2024-06-05'},\n",
              " 'b9d53ac7-b33a-41a4-81b7-a5c69f938d59': {'file_path': '/content/data/aries_May_18.txt',\n",
              "  'file_name': 'aries_May_18.txt',\n",
              "  'file_type': 'text/plain',\n",
              "  'file_size': 440,\n",
              "  'creation_date': '2024-06-05',\n",
              "  'last_modified_date': '2024-06-05'},\n",
              " 'b6e0dae5-241b-4d0a-a41d-cd56d406af53': {'file_path': '/content/data/pisces_June_18.txt',\n",
              "  'file_name': 'pisces_June_18.txt',\n",
              "  'file_type': 'text/plain',\n",
              "  'file_size': 489,\n",
              "  'creation_date': '2024-06-05',\n",
              "  'last_modified_date': '2024-06-05'},\n",
              " '9bf2360b-42f7-4d34-b868-3e46ade37ef2': {'file_path': '/content/data/pisces_May_05.txt',\n",
              "  'file_name': 'pisces_May_05.txt',\n",
              "  'file_type': 'text/plain',\n",
              "  'file_size': 494,\n",
              "  'creation_date': '2024-06-05',\n",
              "  'last_modified_date': '2024-06-05'},\n",
              " '1a7e81e6-4ad2-4316-bdf1-ff9a701e6aca': {'file_path': '/content/data/pisces_May_19.txt',\n",
              "  'file_name': 'pisces_May_19.txt',\n",
              "  'file_type': 'text/plain',\n",
              "  'file_size': 427,\n",
              "  'creation_date': '2024-06-05',\n",
              "  'last_modified_date': '2024-06-05'},\n",
              " 'f4994924-7396-47bb-a2f7-fcbf8f2b5be5': {'file_path': '/content/data/pisces_July_18.txt',\n",
              "  'file_name': 'pisces_July_18.txt',\n",
              "  'file_type': 'text/plain',\n",
              "  'file_size': 474,\n",
              "  'creation_date': '2024-06-05',\n",
              "  'last_modified_date': '2024-06-05'},\n",
              " 'b3ec9f24-46cd-4e80-81f8-30d4f9365071': {'file_path': '/content/data/pisces_May_17.txt',\n",
              "  'file_name': 'pisces_May_17.txt',\n",
              "  'file_type': 'text/plain',\n",
              "  'file_size': 466,\n",
              "  'creation_date': '2024-06-05',\n",
              "  'last_modified_date': '2024-06-05'},\n",
              " '7b46b70c-1f4b-4928-b360-64636092d072': {'file_path': '/content/data/pisces_May_27.txt',\n",
              "  'file_name': 'pisces_May_27.txt',\n",
              "  'file_type': 'text/plain',\n",
              "  'file_size': 476,\n",
              "  'creation_date': '2024-06-05',\n",
              "  'last_modified_date': '2024-06-05'},\n",
              " '590e246b-4d87-4839-9ca9-9736d8df1eec': {'file_path': '/content/data/pisces_May_21.txt',\n",
              "  'file_name': 'pisces_May_21.txt',\n",
              "  'file_type': 'text/plain',\n",
              "  'file_size': 398,\n",
              "  'creation_date': '2024-06-05',\n",
              "  'last_modified_date': '2024-06-05'},\n",
              " '8f3d8593-68e6-4705-b05e-7da3f1fee7bc': {'file_path': '/content/data/pisces_May_01.txt',\n",
              "  'file_name': 'pisces_May_01.txt',\n",
              "  'file_type': 'text/plain',\n",
              "  'file_size': 477,\n",
              "  'creation_date': '2024-06-05',\n",
              "  'last_modified_date': '2024-06-05'},\n",
              " 'd642488f-d8b4-4133-bbf0-3a64788e54f0': {'file_path': '/content/data/pisces_May_22.txt',\n",
              "  'file_name': 'pisces_May_22.txt',\n",
              "  'file_type': 'text/plain',\n",
              "  'file_size': 416,\n",
              "  'creation_date': '2024-06-05',\n",
              "  'last_modified_date': '2024-06-05'}}"
            ]
          },
          "metadata": {},
          "execution_count": 97
        }
      ]
    },
    {
      "cell_type": "code",
      "source": [
        "# Initializing memory\n",
        "pipeline_memory = ChatMemoryBuffer.from_defaults(token_limit=8000)\n",
        "\n",
        "# Test question 3\n",
        "response3 = query_engine.query(\"What are the horoscopes of all signs in 7 August?\")\n",
        "response3.print_response_stream()"
      ],
      "metadata": {
        "colab": {
          "base_uri": "https://localhost:8080/"
        },
        "id": "pNE16EHDbPLQ",
        "outputId": "41865563-daa8-48b2-fa80-1cdc09157f7d"
      },
      "execution_count": 99,
      "outputs": [
        {
          "output_type": "stream",
          "name": "stdout",
          "text": [
            " Libra: Meditation, dreams, or visions could bring amazing insights your way. You might find them too bizarre to believe, at least at first, but follow-up research could reveal that what you've come up with is quite credible. Keep a journal of these revelations because you might remember the gist but forget the details. They could be useful later when you pass your ideas on to others.\n",
            "\n",
            "Scorpio: You're an adventurous soul, Scorpio. Are you thinking about a little mischief today? Are you going to propose that you and a friend or perhaps your partner skip town for a day and forget about work, chores, and other routine matters if possible? You've been bored lately, so who could blame you? If you decide to do this, make sure everyone knows what's up. You don't want to burn any bridges.\n",
            "\n",
            "Gemini: Some unexpected but very welcome visitors could arrive today, Gemini. They might bring some people you don't know but should connect with right away. Expect interesting news, fascinating information, and a lot of laughs. Even though you don't know for sure that these people are able to come over, have a supply of drinks and snacks on hand. You'll want them to settle in and stay a while, if possible.\n",
            "\n",
            "Pisces: If you're single, you could feel a very powerful attraction to someone unusual and perhaps a little wacky. If you're already in a relationship, you could glimpse a silly and rather insane side of your beloved you've never seen before. This could be a bit disconcerting but also make you laugh. That's part of the appeal of love - continuously learning about that special one.\n",
            "\n",
            "Virgo: If you're in the arts or sciences, Virgo, sudden inspiration could cause you to start or continue a project that means a lot to you. Some friends or group members could help out with useful information. Your mind may generate new ideas throughout the day. Once you've finished your work, take a walk and clear your head. Watch a video. If you don't, it could be hard to sleep tonight.\n",
            "\n",
            "Aries: Today you could be hit with some exciting news, Aries. This could involve new people or equipment coming onto the scene or an entirely new project or course of action that you'd never have dreamed of. This is likely to be a lucky break for you, as it probably suits your skills and talents nearly perfectly. Make the most of this opportunity. It could make a big difference to you.\n",
            "\n",
            "Sagittarius: An unexpected communication may come today from someone connected with your career, Sagittarius. This is good news, but it may be so off the wall that you could walk around in a daze for a while trying to make sense of it all. Don't agonize too much. You've worked hard for and deserve whatever it is that's suddenly coming to you. Think of it as a karmic reward. Go celebrate!\n",
            "\n",
            "Taurus: If you're single, Taurus, love may come to you completely out of the blue today. The person could be standing behind you in line at the store or sitting nearby you in the park. Wherever you connect, don't be too cautious. Move ahead carefully, but at least get to know something about this person before giving in to insecurity and running the other way.\n",
            "\n",
            "Capricorn: An unexpected chance to fly to a faraway place, perhaps at someone else's expense, could come to you today, Capricorn. A group might be involved, perhaps one connected with education. Do you lecture or teach? If so, this might be a chance to give a lecture in an exciting place you've never been to before. Get your materials together, pack your bag, and go. Have fun!\n",
            "\n",
            "Scorpio (11 August): New information could come at you from all sides today, Scorpio. Books, magazines, TV, the Internet, and conversations are likely to bring exciting knowledge your way that reinforces some of your convictions. Your intuitive abilities are strong, too. Insights could blend well with what you learn from others. Write down your thoughts. You'll want to put them to work for you later.\n",
            "\n",
            "Gemini (11 August): You could meet some fascinating people, Gemini, and perhaps learn Earthshaking information that impacts your life. You might consider new lifestyle options. A group, possibly spiritual or metaphysical, could seem attractive. You might consider joining it. Expect some fascinating discussions with a significant other. Books and other publications could prove enlightening.\n"
          ]
        }
      ]
    },
    {
      "cell_type": "code",
      "source": [
        "# Metadata of question 3\n",
        "response3.metadata"
      ],
      "metadata": {
        "colab": {
          "base_uri": "https://localhost:8080/"
        },
        "id": "iXtQnyYjbPkG",
        "outputId": "3b39a878-3e34-446b-f289-f24f48709a9a"
      },
      "execution_count": 100,
      "outputs": [
        {
          "output_type": "execute_result",
          "data": {
            "text/plain": [
              "{'7e26ad1c-b81f-441f-a7df-284c65f0cfe2': {'file_path': '/content/data/libra_August_07.txt',\n",
              "  'file_name': 'libra_August_07.txt',\n",
              "  'file_type': 'text/plain',\n",
              "  'file_size': 486,\n",
              "  'creation_date': '2024-06-05',\n",
              "  'last_modified_date': '2024-06-05'},\n",
              " 'a548ef11-a853-48d7-80f2-e57047eac8c6': {'file_path': '/content/data/scorpio_August_07.txt',\n",
              "  'file_name': 'scorpio_August_07.txt',\n",
              "  'file_type': 'text/plain',\n",
              "  'file_size': 495,\n",
              "  'creation_date': '2024-06-05',\n",
              "  'last_modified_date': '2024-06-05'},\n",
              " '36a84d21-3bb7-43ca-9602-1d809e739cb4': {'file_path': '/content/data/gemini_August_07.txt',\n",
              "  'file_name': 'gemini_August_07.txt',\n",
              "  'file_type': 'text/plain',\n",
              "  'file_size': 503,\n",
              "  'creation_date': '2024-06-05',\n",
              "  'last_modified_date': '2024-06-05'},\n",
              " 'f9fcee4f-2f03-47db-88e3-aed6996702a4': {'file_path': '/content/data/pisces_August_07.txt',\n",
              "  'file_name': 'pisces_August_07.txt',\n",
              "  'file_type': 'text/plain',\n",
              "  'file_size': 476,\n",
              "  'creation_date': '2024-06-05',\n",
              "  'last_modified_date': '2024-06-05'},\n",
              " 'f3d5ec46-28e2-491b-a1be-8fedf0e6db14': {'file_path': '/content/data/virgo_August_07.txt',\n",
              "  'file_name': 'virgo_August_07.txt',\n",
              "  'file_type': 'text/plain',\n",
              "  'file_size': 484,\n",
              "  'creation_date': '2024-06-05',\n",
              "  'last_modified_date': '2024-06-05'},\n",
              " 'fbbb13d5-042b-4a99-87b1-a08b9bc309ab': {'file_path': '/content/data/aries_August_11.txt',\n",
              "  'file_name': 'aries_August_11.txt',\n",
              "  'file_type': 'text/plain',\n",
              "  'file_size': 481,\n",
              "  'creation_date': '2024-06-05',\n",
              "  'last_modified_date': '2024-06-05'},\n",
              " 'ca7cc8d4-9a0e-4171-8ee1-c40dde9ab833': {'file_path': '/content/data/gemini_August_22.txt',\n",
              "  'file_name': 'gemini_August_22.txt',\n",
              "  'file_type': 'text/plain',\n",
              "  'file_size': 458,\n",
              "  'creation_date': '2024-06-05',\n",
              "  'last_modified_date': '2024-06-05'},\n",
              " 'a5fd9374-6886-4fd1-ab4a-40a0bbf67ce2': {'file_path': '/content/data/sagittarius_August_07.txt',\n",
              "  'file_name': 'sagittarius_August_07.txt',\n",
              "  'file_type': 'text/plain',\n",
              "  'file_size': 483,\n",
              "  'creation_date': '2024-06-05',\n",
              "  'last_modified_date': '2024-06-05'},\n",
              " 'c2e4e9f2-de01-49ba-95e8-4f22899d8382': {'file_path': '/content/data/taurus_August_07.txt',\n",
              "  'file_name': 'taurus_August_07.txt',\n",
              "  'file_type': 'text/plain',\n",
              "  'file_size': 455,\n",
              "  'creation_date': '2024-06-05',\n",
              "  'last_modified_date': '2024-06-05'},\n",
              " '83a43d37-d303-4fde-868e-4e4e38bb5929': {'file_path': '/content/data/scorpio_August_11.txt',\n",
              "  'file_name': 'scorpio_August_11.txt',\n",
              "  'file_type': 'text/plain',\n",
              "  'file_size': 484,\n",
              "  'creation_date': '2024-06-05',\n",
              "  'last_modified_date': '2024-06-05'},\n",
              " 'b030c46b-00e9-41e9-83b0-9bfcfb64fe3e': {'file_path': '/content/data/gemini_August_11.txt',\n",
              "  'file_name': 'gemini_August_11.txt',\n",
              "  'file_type': 'text/plain',\n",
              "  'file_size': 473,\n",
              "  'creation_date': '2024-06-05',\n",
              "  'last_modified_date': '2024-06-05'},\n",
              " '26f673b4-5db9-4891-a0fa-371957562514': {'file_path': '/content/data/capricorn_August_07.txt',\n",
              "  'file_name': 'capricorn_August_07.txt',\n",
              "  'file_type': 'text/plain',\n",
              "  'file_size': 472,\n",
              "  'creation_date': '2024-06-05',\n",
              "  'last_modified_date': '2024-06-05'}}"
            ]
          },
          "metadata": {},
          "execution_count": 100
        }
      ]
    },
    {
      "cell_type": "code",
      "source": [
        "# Initializing memory\n",
        "pipeline_memory = ChatMemoryBuffer.from_defaults(token_limit=8000)\n",
        "\n",
        "# Test question 4\n",
        "response4 = query_engine.query(\"What is the general horoscope for Gemini?\")\n",
        "response4.print_response_stream()"
      ],
      "metadata": {
        "colab": {
          "base_uri": "https://localhost:8080/"
        },
        "id": "-d52KRQ_bd5P",
        "outputId": "a363a9a3-e656-4424-d57a-b20e29d57cf1"
      },
      "execution_count": 101,
      "outputs": [
        {
          "output_type": "stream",
          "name": "stdout",
          "text": [
            " The horoscope for Gemini, based on the provided examples, seems to suggest a mix of various aspects. Some days may bring clarity and understanding, allowing for self-expression and connection with others (March 27). On other days, Gemini might find themselves driven by desire, needing to show their determination to achieve what they want (July 3). The horoscope also highlights the importance of clear communication in relationships, with an emphasis on understanding and strengthening bonds (January 6). Additionally, there are days where practicality is urged over dreaminess (July 30), and days when Gemini should focus on personal growth and self-care (November 3). Overall, the horoscope for Gemini seems to be about balance between self-expression, determination, communication, and personal development.\n"
          ]
        }
      ]
    },
    {
      "cell_type": "code",
      "source": [
        "# Metadata of question 4\n",
        "response4.metadata"
      ],
      "metadata": {
        "colab": {
          "base_uri": "https://localhost:8080/"
        },
        "id": "fLR1ihftbd7n",
        "outputId": "03efb7a4-2a49-4ec4-ac57-33db8c84df14"
      },
      "execution_count": 102,
      "outputs": [
        {
          "output_type": "execute_result",
          "data": {
            "text/plain": [
              "{'ad55f98b-15c8-4894-a2bd-782f05f4701d': {'file_path': '/content/data/gemini_January_19.txt',\n",
              "  'file_name': 'gemini_January_19.txt',\n",
              "  'file_type': 'text/plain',\n",
              "  'file_size': 452,\n",
              "  'creation_date': '2024-06-05',\n",
              "  'last_modified_date': '2024-06-05'},\n",
              " '7ab9a8ed-181f-481c-9509-a3ad7894a2ad': {'file_path': '/content/data/gemini_March_27.txt',\n",
              "  'file_name': 'gemini_March_27.txt',\n",
              "  'file_type': 'text/plain',\n",
              "  'file_size': 443,\n",
              "  'creation_date': '2024-06-05',\n",
              "  'last_modified_date': '2024-06-05'},\n",
              " 'dcc307fd-b100-4587-9fdc-4d42615015e5': {'file_path': '/content/data/gemini_July_03.txt',\n",
              "  'file_name': 'gemini_July_03.txt',\n",
              "  'file_type': 'text/plain',\n",
              "  'file_size': 456,\n",
              "  'creation_date': '2024-06-05',\n",
              "  'last_modified_date': '2024-06-05'},\n",
              " '2da97400-69bf-4726-9dab-39bcd80030e6': {'file_path': '/content/data/gemini_July_05.txt',\n",
              "  'file_name': 'gemini_July_05.txt',\n",
              "  'file_type': 'text/plain',\n",
              "  'file_size': 478,\n",
              "  'creation_date': '2024-06-05',\n",
              "  'last_modified_date': '2024-06-05'},\n",
              " '0df42559-a48f-466d-b03d-662a951cb634': {'file_path': '/content/data/gemini_January_05.txt',\n",
              "  'file_name': 'gemini_January_05.txt',\n",
              "  'file_type': 'text/plain',\n",
              "  'file_size': 456,\n",
              "  'creation_date': '2024-06-05',\n",
              "  'last_modified_date': '2024-06-05'},\n",
              " 'afc73940-7380-4262-a5cc-b78c74d9702d': {'file_path': '/content/data/gemini_March_29.txt',\n",
              "  'file_name': 'gemini_March_29.txt',\n",
              "  'file_type': 'text/plain',\n",
              "  'file_size': 483,\n",
              "  'creation_date': '2024-06-05',\n",
              "  'last_modified_date': '2024-06-05'},\n",
              " '56a90be9-2b05-4273-b221-c3cf5a70f3ac': {'file_path': '/content/data/gemini_November_03.txt',\n",
              "  'file_name': 'gemini_November_03.txt',\n",
              "  'file_type': 'text/plain',\n",
              "  'file_size': 453,\n",
              "  'creation_date': '2024-06-05',\n",
              "  'last_modified_date': '2024-06-05'},\n",
              " '5f512b7e-5387-43da-bb96-11e5f944fe57': {'file_path': '/content/data/gemini_March_31.txt',\n",
              "  'file_name': 'gemini_March_31.txt',\n",
              "  'file_type': 'text/plain',\n",
              "  'file_size': 434,\n",
              "  'creation_date': '2024-06-05',\n",
              "  'last_modified_date': '2024-06-05'},\n",
              " 'b8b28dcc-93fb-4f72-9ad7-10ca52e38537': {'file_path': '/content/data/gemini_July_30.txt',\n",
              "  'file_name': 'gemini_July_30.txt',\n",
              "  'file_type': 'text/plain',\n",
              "  'file_size': 491,\n",
              "  'creation_date': '2024-06-05',\n",
              "  'last_modified_date': '2024-06-05'},\n",
              " '8b2c82a7-d475-4696-aad9-219d58b068f4': {'file_path': '/content/data/gemini_January_14.txt',\n",
              "  'file_name': 'gemini_January_14.txt',\n",
              "  'file_type': 'text/plain',\n",
              "  'file_size': 466,\n",
              "  'creation_date': '2024-06-05',\n",
              "  'last_modified_date': '2024-06-05'},\n",
              " '691b1aa3-4b5f-4107-8c3c-b144be5ceaef': {'file_path': '/content/data/gemini_January_06.txt',\n",
              "  'file_name': 'gemini_January_06.txt',\n",
              "  'file_type': 'text/plain',\n",
              "  'file_size': 498,\n",
              "  'creation_date': '2024-06-05',\n",
              "  'last_modified_date': '2024-06-05'},\n",
              " '95877e3f-c70a-4d7f-8328-3f94f539047b': {'file_path': '/content/data/gemini_January_01.txt',\n",
              "  'file_name': 'gemini_January_01.txt',\n",
              "  'file_type': 'text/plain',\n",
              "  'file_size': 487,\n",
              "  'creation_date': '2024-06-05',\n",
              "  'last_modified_date': '2024-06-05'}}"
            ]
          },
          "metadata": {},
          "execution_count": 102
        }
      ]
    },
    {
      "cell_type": "code",
      "source": [
        "# Initializing memory\n",
        "pipeline_memory = ChatMemoryBuffer.from_defaults(token_limit=8000)\n",
        "\n",
        "# Test question 5. Just wording is different from test question 4\n",
        "response5 = query_engine.query(\"Summarize the horoscope for Gemini.\")\n",
        "response5.print_response_stream()"
      ],
      "metadata": {
        "colab": {
          "base_uri": "https://localhost:8080/"
        },
        "id": "PR3QCXRGbqpz",
        "outputId": "9b03b376-5b66-4396-9aff-af1dcb2ac91a"
      },
      "execution_count": 103,
      "outputs": [
        {
          "output_type": "stream",
          "name": "stdout",
          "text": [
            " The horoscope for Gemini suggests a series of days that encourage self-discovery, intellectual curiosity, creativity, and personal growth. One day might stimulate an interest in a particular field or topic, prompting you to learn more about it. Another day encourages introspection and questioning one's beliefs, with suggestions for yoga, meditation, and dream journaling. Creative projects, particularly those involving music, painting, writing, or business partnerships, are highlighted on specific days. The horoscope also emphasizes the importance of joining groups that share your interests and pursuing subjects you might otherwise deem \"non-serious.\" There is a focus on personal relationships, with an emphasis on taking advantage of the energy from today's aspects to strengthen romantic involvements or seek deeper commitments. Additionally, there are indications that you may find wisdom in others and that you should trust your intuition for self-discovery.\n"
          ]
        }
      ]
    },
    {
      "cell_type": "code",
      "source": [
        "# Metadata of question 5\n",
        "response5.metadata"
      ],
      "metadata": {
        "colab": {
          "base_uri": "https://localhost:8080/"
        },
        "id": "MWQY-2G9bqxB",
        "outputId": "9f9ce4d4-9dd6-4ad0-8fef-69d25910c29c"
      },
      "execution_count": 104,
      "outputs": [
        {
          "output_type": "execute_result",
          "data": {
            "text/plain": [
              "{'9dda9a1c-d2a2-411f-aa67-6ba03f0c97aa': {'file_path': '/content/data/gemini_October_11.txt',\n",
              "  'file_name': 'gemini_October_11.txt',\n",
              "  'file_type': 'text/plain',\n",
              "  'file_size': 480,\n",
              "  'creation_date': '2024-06-05',\n",
              "  'last_modified_date': '2024-06-05'},\n",
              " '4f9cdfbb-34c0-4420-986f-a2395da33881': {'file_path': '/content/data/gemini_April_12.txt',\n",
              "  'file_name': 'gemini_April_12.txt',\n",
              "  'file_type': 'text/plain',\n",
              "  'file_size': 493,\n",
              "  'creation_date': '2024-06-05',\n",
              "  'last_modified_date': '2024-06-05'},\n",
              " 'a1f14f2c-0cf2-4a7c-8012-a47b914b4a38': {'file_path': '/content/data/gemini_May_31.txt',\n",
              "  'file_name': 'gemini_May_31.txt',\n",
              "  'file_type': 'text/plain',\n",
              "  'file_size': 478,\n",
              "  'creation_date': '2024-06-05',\n",
              "  'last_modified_date': '2024-06-05'},\n",
              " '53a23600-f7e0-4cad-8069-f38957ef6ced': {'file_path': '/content/data/gemini_April_27.txt',\n",
              "  'file_name': 'gemini_April_27.txt',\n",
              "  'file_type': 'text/plain',\n",
              "  'file_size': 488,\n",
              "  'creation_date': '2024-06-05',\n",
              "  'last_modified_date': '2024-06-05'},\n",
              " '07d691ca-6d42-4144-919f-1c5af6242506': {'file_path': '/content/data/gemini_May_30.txt',\n",
              "  'file_name': 'gemini_May_30.txt',\n",
              "  'file_type': 'text/plain',\n",
              "  'file_size': 406,\n",
              "  'creation_date': '2024-06-05',\n",
              "  'last_modified_date': '2024-06-05'},\n",
              " '04cb4354-2fea-48a1-8969-26722f1e1dd3': {'file_path': '/content/data/gemini_April_30.txt',\n",
              "  'file_name': 'gemini_April_30.txt',\n",
              "  'file_type': 'text/plain',\n",
              "  'file_size': 465,\n",
              "  'creation_date': '2024-06-05',\n",
              "  'last_modified_date': '2024-06-05'},\n",
              " '23d85119-d1c9-4a8c-9d56-5ab124211928': {'file_path': '/content/data/gemini_May_27.txt',\n",
              "  'file_name': 'gemini_May_27.txt',\n",
              "  'file_type': 'text/plain',\n",
              "  'file_size': 453,\n",
              "  'creation_date': '2024-06-05',\n",
              "  'last_modified_date': '2024-06-05'},\n",
              " '2e4f3b8c-76d8-4c50-a1ab-98bd63982ee8': {'file_path': '/content/data/gemini_March_12.txt',\n",
              "  'file_name': 'gemini_March_12.txt',\n",
              "  'file_type': 'text/plain',\n",
              "  'file_size': 488,\n",
              "  'creation_date': '2024-06-05',\n",
              "  'last_modified_date': '2024-06-05'},\n",
              " 'f2ecfd40-abd2-4fbc-9214-d0b4b344b07e': {'file_path': '/content/data/gemini_July_14.txt',\n",
              "  'file_name': 'gemini_July_14.txt',\n",
              "  'file_type': 'text/plain',\n",
              "  'file_size': 494,\n",
              "  'creation_date': '2024-06-05',\n",
              "  'last_modified_date': '2024-06-05'},\n",
              " '3a11f0ab-d30f-47df-99a2-1d2aa1aa6b16': {'file_path': '/content/data/gemini_May_09.txt',\n",
              "  'file_name': 'gemini_May_09.txt',\n",
              "  'file_type': 'text/plain',\n",
              "  'file_size': 428,\n",
              "  'creation_date': '2024-06-05',\n",
              "  'last_modified_date': '2024-06-05'},\n",
              " '6ba32b5f-d05e-45e3-9a83-022d428f0544': {'file_path': '/content/data/gemini_July_11.txt',\n",
              "  'file_name': 'gemini_July_11.txt',\n",
              "  'file_type': 'text/plain',\n",
              "  'file_size': 481,\n",
              "  'creation_date': '2024-06-05',\n",
              "  'last_modified_date': '2024-06-05'},\n",
              " '64b1c7a0-228d-4b5e-9ed1-d78b00224e9e': {'file_path': '/content/data/gemini_May_10.txt',\n",
              "  'file_name': 'gemini_May_10.txt',\n",
              "  'file_type': 'text/plain',\n",
              "  'file_size': 463,\n",
              "  'creation_date': '2024-06-05',\n",
              "  'last_modified_date': '2024-06-05'}}"
            ]
          },
          "metadata": {},
          "execution_count": 104
        }
      ]
    },
    {
      "cell_type": "code",
      "source": [
        "# Initializing memory\n",
        "pipeline_memory = ChatMemoryBuffer.from_defaults(token_limit=8000)\n",
        "\n",
        "# Test question 6\n",
        "response6 = query_engine.query(\"Tell how compatible Scorpio and Aries are.\")\n",
        "response6.print_response_stream()"
      ],
      "metadata": {
        "colab": {
          "base_uri": "https://localhost:8080/"
        },
        "id": "jOurwBBXb8MB",
        "outputId": "6b0765af-116d-4ca3-d8e1-14783b9a308d"
      },
      "execution_count": 123,
      "outputs": [
        {
          "output_type": "stream",
          "name": "stdout",
          "text": [
            " According to astrology, the compatibility between a Scorpio and an Aries can be a bit challenging due to their differences in personality traits and behaviors. Scorpios tend to be intense, passionate, and secretive, while Aries are assertive, energetic, and adventurous. However, when they find common ground, such as mutual respect and understanding, they can form a strong bond that helps each other grow.\n"
          ]
        }
      ]
    },
    {
      "cell_type": "code",
      "source": [
        "# Metadata of question 6\n",
        "response6.metadata"
      ],
      "metadata": {
        "colab": {
          "base_uri": "https://localhost:8080/"
        },
        "id": "jYPTtvc0b8PS",
        "outputId": "e32bd822-0657-42c1-dc0a-2188e97f4c53"
      },
      "execution_count": 125,
      "outputs": [
        {
          "output_type": "execute_result",
          "data": {
            "text/plain": [
              "{'24c4e2fd-2a22-4e24-9cca-3e4fb2e4b2ce': {}}"
            ]
          },
          "metadata": {},
          "execution_count": 125
        }
      ]
    },
    {
      "cell_type": "code",
      "source": [
        "# Initializing memory\n",
        "pipeline_memory = ChatMemoryBuffer.from_defaults(token_limit=8000)\n",
        "\n",
        "# Test question 7\n",
        "response7 = query_engine.query(\"Explain the compatibility of Virgo and Leo for 10 October.\")\n",
        "response7.print_response_stream()"
      ],
      "metadata": {
        "colab": {
          "base_uri": "https://localhost:8080/"
        },
        "id": "1iobMVyBcKYw",
        "outputId": "823e0a48-e789-4e81-d6b8-b4938e066674"
      },
      "execution_count": 108,
      "outputs": [
        {
          "output_type": "stream",
          "name": "stdout",
          "text": [
            " On October 10th, both Virgo and Leo are provided horoscopes in the context. For Virgo, it is stated that their sweetheart may seem upset and unlikely to want to talk about it. This could potentially create some tension or frustration, especially given that Virgo generally dislikes being kept in the dark.\n",
            "\n",
            "On the other hand, for Leo, the horoscope mentions emotional discussions with their partner could move them to tears, indicating a potentially sensitive or emotional state. They might have personal and financial issues to resolve on this day.\n",
            "\n",
            "Taking into account both signs' horoscopes, it seems that on October 10th, there might be some compatibility challenges for Virgo and Leo due to the potential tension and emotional turmoil each may experience individually. However, understanding and empathy could help them navigate through these challenges.\n"
          ]
        }
      ]
    },
    {
      "cell_type": "code",
      "source": [
        "# Metadata of question 7\n",
        "response7.metadata"
      ],
      "metadata": {
        "colab": {
          "base_uri": "https://localhost:8080/"
        },
        "id": "CYHfiatvcKbc",
        "outputId": "e51f2369-64d3-4270-f8b4-327ec087c22c"
      },
      "execution_count": 109,
      "outputs": [
        {
          "output_type": "execute_result",
          "data": {
            "text/plain": [
              "{'4f47ab24-2569-4cc7-9a1f-ee39b58d3440': {'file_path': '/content/data/virgo_October_23.txt',\n",
              "  'file_name': 'virgo_October_23.txt',\n",
              "  'file_type': 'text/plain',\n",
              "  'file_size': 447,\n",
              "  'creation_date': '2024-06-05',\n",
              "  'last_modified_date': '2024-06-05'},\n",
              " '77477710-139d-42f4-82f0-288317af98c3': {'file_path': '/content/data/virgo_October_10.txt',\n",
              "  'file_name': 'virgo_October_10.txt',\n",
              "  'file_type': 'text/plain',\n",
              "  'file_size': 484,\n",
              "  'creation_date': '2024-06-05',\n",
              "  'last_modified_date': '2024-06-05'},\n",
              " 'aeda3b2f-4cab-4450-82e5-8243cac23d42': {'file_path': '/content/data/leo_October_29.txt',\n",
              "  'file_name': 'leo_October_29.txt',\n",
              "  'file_type': 'text/plain',\n",
              "  'file_size': 484,\n",
              "  'creation_date': '2024-06-05',\n",
              "  'last_modified_date': '2024-06-05'},\n",
              " 'e3907b96-35bd-41f8-88b6-9de299812a03': {'file_path': '/content/data/virgo_October_16.txt',\n",
              "  'file_name': 'virgo_October_16.txt',\n",
              "  'file_type': 'text/plain',\n",
              "  'file_size': 464,\n",
              "  'creation_date': '2024-06-05',\n",
              "  'last_modified_date': '2024-06-05'},\n",
              " '2fbe68f4-795e-4e02-b1ac-569201865b02': {'file_path': '/content/data/leo_October_25.txt',\n",
              "  'file_name': 'leo_October_25.txt',\n",
              "  'file_type': 'text/plain',\n",
              "  'file_size': 467,\n",
              "  'creation_date': '2024-06-05',\n",
              "  'last_modified_date': '2024-06-05'},\n",
              " '931b6290-b97d-4356-9f95-a76d59178acb': {'file_path': '/content/data/leo_September_10.txt',\n",
              "  'file_name': 'leo_September_10.txt',\n",
              "  'file_type': 'text/plain',\n",
              "  'file_size': 478,\n",
              "  'creation_date': '2024-06-05',\n",
              "  'last_modified_date': '2024-06-05'},\n",
              " '6fb3986f-46e8-42fa-8f72-20d01d2ab64d': {'file_path': '/content/data/virgo_October_25.txt',\n",
              "  'file_name': 'virgo_October_25.txt',\n",
              "  'file_type': 'text/plain',\n",
              "  'file_size': 506,\n",
              "  'creation_date': '2024-06-05',\n",
              "  'last_modified_date': '2024-06-05'},\n",
              " '970e99f1-28cc-4d10-b2ca-62e5d4e6cb4b': {'file_path': '/content/data/leo_October_23.txt',\n",
              "  'file_name': 'leo_October_23.txt',\n",
              "  'file_type': 'text/plain',\n",
              "  'file_size': 489,\n",
              "  'creation_date': '2024-06-05',\n",
              "  'last_modified_date': '2024-06-05'},\n",
              " 'e0c6fc40-4e1a-403f-9d73-28e7eb660aed': {'file_path': '/content/data/virgo_October_05.txt',\n",
              "  'file_name': 'virgo_October_05.txt',\n",
              "  'file_type': 'text/plain',\n",
              "  'file_size': 481,\n",
              "  'creation_date': '2024-06-05',\n",
              "  'last_modified_date': '2024-06-05'},\n",
              " 'f24224d3-09b0-4064-a070-38a57b36fddb': {'file_path': '/content/data/virgo_October_13.txt',\n",
              "  'file_name': 'virgo_October_13.txt',\n",
              "  'file_type': 'text/plain',\n",
              "  'file_size': 444,\n",
              "  'creation_date': '2024-06-05',\n",
              "  'last_modified_date': '2024-06-05'},\n",
              " '8b273fb2-1656-419a-bfc5-b520f741bd15': {'file_path': '/content/data/virgo_October_09.txt',\n",
              "  'file_name': 'virgo_October_09.txt',\n",
              "  'file_type': 'text/plain',\n",
              "  'file_size': 476,\n",
              "  'creation_date': '2024-06-05',\n",
              "  'last_modified_date': '2024-06-05'},\n",
              " '3939d070-89b4-4a20-a423-cc99d76ea927': {'file_path': '/content/data/leo_August_10.txt',\n",
              "  'file_name': 'leo_August_10.txt',\n",
              "  'file_type': 'text/plain',\n",
              "  'file_size': 459,\n",
              "  'creation_date': '2024-06-05',\n",
              "  'last_modified_date': '2024-06-05'}}"
            ]
          },
          "metadata": {},
          "execution_count": 109
        }
      ]
    },
    {
      "cell_type": "code",
      "source": [
        " # Multi-Hop Reasoning System test questions\n",
        "mhrs = [\n",
        "    \"My sign is Capricorn. For September 19, write me a horoscope.\",\n",
        "    \"Which date is mentioned in the chat history?\",\n",
        "    \"My ascendant sign is Cancer. For the date mentioned in the chat history, tell me the horoscope for Cancer.\",\n",
        "    \"Summarize the chat history so far.\",\n",
        "]\n",
        "\n",
        "# Initializing memory\n",
        "pipeline_memory = ChatMemoryBuffer.from_defaults(token_limit=8000)\n",
        "multi_hop(mhrs, metadata=True)"
      ],
      "metadata": {
        "colab": {
          "base_uri": "https://localhost:8080/"
        },
        "id": "9LDP_DYgVXdA",
        "outputId": "898456d2-9d28-4af9-a2dd-c269b3fcb46e"
      },
      "execution_count": 142,
      "outputs": [
        {
          "output_type": "stream",
          "name": "stdout",
          "text": [
            "------------------------------\n",
            "\n",
            "User:\n",
            " My sign is Capricorn. For September 19, write me a horoscope.\n",
            "\n",
            "Assistant:\n",
            "\n",
            " On September 19th, as a Capricorn, you are advised to initiate a major change in your life. This day encourages you to break free from the ordinary and venture into something exciting. Consider enrolling in an online class that expands your mind, such as yoga, tarot, or martial arts. You have a great deal of energy today which will help you maintain confidence and endurance as you work on establishing this new life-enhancing endeavor.\n",
            "\n",
            "\n",
            "------------------------------\n",
            "Metadata:\n",
            "{'ebc7d4ad-6e60-4b3f-9874-f4d6dc730d95': {'file_path': '/content/data/capricorn_September_19.txt', 'file_name': 'capricorn_September_19.txt', 'file_type': 'text/plain', 'file_size': 494, 'creation_date': '2024-06-05', 'last_modified_date': '2024-06-05'}, 'cde8235f-126b-45ef-a3ce-5104404a46b2': {'file_path': '/content/data/capricorn_September_09.txt', 'file_name': 'capricorn_September_09.txt', 'file_type': 'text/plain', 'file_size': 477, 'creation_date': '2024-06-05', 'last_modified_date': '2024-06-05'}, '4db09cdc-99d7-4215-9c3a-750a97f72e25': {'file_path': '/content/data/capricorn_September_24.txt', 'file_name': 'capricorn_September_24.txt', 'file_type': 'text/plain', 'file_size': 490, 'creation_date': '2024-06-05', 'last_modified_date': '2024-06-05'}, '609912b4-5106-4aa6-8aeb-199ec94a2c00': {'file_path': '/content/data/capricorn_September_10.txt', 'file_name': 'capricorn_September_10.txt', 'file_type': 'text/plain', 'file_size': 447, 'creation_date': '2024-06-05', 'last_modified_date': '2024-06-05'}, 'e238376c-9be2-4fc9-acd0-e15af7d5b351': {'file_path': '/content/data/capricorn_September_06.txt', 'file_name': 'capricorn_September_06.txt', 'file_type': 'text/plain', 'file_size': 494, 'creation_date': '2024-06-05', 'last_modified_date': '2024-06-05'}, '353d6a49-f569-4082-b377-be3aa11b3cd4': {'file_path': '/content/data/capricorn_September_29.txt', 'file_name': 'capricorn_September_29.txt', 'file_type': 'text/plain', 'file_size': 451, 'creation_date': '2024-06-05', 'last_modified_date': '2024-06-05'}}\n",
            "------------------------------\n",
            "\n",
            "User:\n",
            " Which date is mentioned in the chat history?\n",
            "\n",
            "Assistant:\n",
            "\n",
            " September 19th is the date mentioned in the chat history.\n",
            "\n",
            "\n",
            "------------------------------\n",
            "Metadata:\n",
            "{'9eef39f3-9e5c-4cb2-968c-37392b1ca270': {}}\n",
            "------------------------------\n",
            "\n",
            "User:\n",
            " My ascendant sign is Cancer. For the date mentioned in the chat history, tell me the horoscope for Cancer.\n",
            "\n",
            "Assistant:\n",
            "\n",
            " On September 19th, as a Cancer, you are advised to initiate a major change in your life. This day encourages you to break free from the ordinary and venture into something exciting. Consider enrolling in an online class that expands your mind, such as yoga, tarot, or martial arts. You have a great deal of energy today which will help you maintain confidence and endurance as you work on establishing this new life-enhancing endeavor.\n",
            "\n",
            "\n",
            "------------------------------\n",
            "Metadata:\n",
            "{'b9448fe9-0191-4ca0-9daa-248a3bf5d589': {'file_path': '/content/data/cancer_April_08.txt', 'file_name': 'cancer_April_08.txt', 'file_type': 'text/plain', 'file_size': 467, 'creation_date': '2024-06-05', 'last_modified_date': '2024-06-05'}, 'e0b090ca-84fd-45c7-b379-6296933ec6fb': {'file_path': '/content/data/cancer_August_28.txt', 'file_name': 'cancer_August_28.txt', 'file_type': 'text/plain', 'file_size': 464, 'creation_date': '2024-06-05', 'last_modified_date': '2024-06-05'}, '4e68a506-032e-4944-acaf-ff2987b77b5d': {'file_path': '/content/data/cancer_November_03.txt', 'file_name': 'cancer_November_03.txt', 'file_type': 'text/plain', 'file_size': 448, 'creation_date': '2024-06-05', 'last_modified_date': '2024-06-05'}, '371226d9-ed7c-4620-83b9-c627e396fd58': {'file_path': '/content/data/cancer_August_09.txt', 'file_name': 'cancer_August_09.txt', 'file_type': 'text/plain', 'file_size': 470, 'creation_date': '2024-06-05', 'last_modified_date': '2024-06-05'}, '946ed996-7a38-45b3-aa4a-b20a7052267a': {'file_path': '/content/data/cancer_August_07.txt', 'file_name': 'cancer_August_07.txt', 'file_type': 'text/plain', 'file_size': 439, 'creation_date': '2024-06-05', 'last_modified_date': '2024-06-05'}, 'fb0b991a-62c5-4008-81db-48b3d7b5b8e8': {'file_path': '/content/data/cancer_August_03.txt', 'file_name': 'cancer_August_03.txt', 'file_type': 'text/plain', 'file_size': 441, 'creation_date': '2024-06-05', 'last_modified_date': '2024-06-05'}}\n",
            "------------------------------\n",
            "\n",
            "User:\n",
            " Summarize the chat history so far.\n",
            "\n",
            "Assistant:\n",
            "\n",
            " The chat history consists of a user asking for horoscopes based on different signs, specifically Capricorn and Cancer, for the date September 19th. For both signs, the horoscope suggests that this day encourages a major change in their lives and advises venturing into something exciting, such as enrolling in an online class like yoga, tarot, or martial arts. Both signs are said to have a great deal of energy on this day which will help them maintain confidence and endurance as they work towards establishing this new life-enhancing endeavor.\n",
            "\n",
            "\n",
            "------------------------------\n",
            "Metadata:\n",
            "{'9eef39f3-9e5c-4cb2-968c-37392b1ca270': {}}\n"
          ]
        }
      ]
    }
  ]
}